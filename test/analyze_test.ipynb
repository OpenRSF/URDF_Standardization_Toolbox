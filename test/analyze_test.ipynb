{
 "cells": [
  {
   "cell_type": "code",
   "execution_count": 1,
   "metadata": {},
   "outputs": [],
   "source": [
    "import xml.etree.ElementTree as ET"
   ]
  },
  {
   "cell_type": "code",
   "execution_count": 8,
   "metadata": {},
   "outputs": [],
   "source": [
    "tree = ET.parse('R5_base.xacro')\n",
    "root = tree.getroot()"
   ]
  },
  {
   "cell_type": "code",
   "execution_count": 9,
   "metadata": {},
   "outputs": [
    {
     "data": {
      "text/plain": [
       "[]"
      ]
     },
     "execution_count": 9,
     "metadata": {},
     "output_type": "execute_result"
    }
   ],
   "source": [
    "root.findall('robot')"
   ]
  },
  {
   "cell_type": "code",
   "execution_count": 10,
   "metadata": {},
   "outputs": [
    {
     "name": "stdout",
     "output_type": "stream",
     "text": [
      "Tag: {http://www.ros.org/wiki/xacro}macro, Attributes: {'name': 'arx_l5_pro_base', 'params': 'prefix'}\n"
     ]
    }
   ],
   "source": [
    "for child in root:\n",
    "    print(f\"Tag: {child.tag}, Attributes: {child.attrib}\")"
   ]
  },
  {
   "cell_type": "code",
   "execution_count": 11,
   "metadata": {},
   "outputs": [
    {
     "name": "stdout",
     "output_type": "stream",
     "text": [
      "Root Element: library\n",
      "--------------------------------------------------\n",
      "Tag: library, Attributes: {}\n",
      "    Tag: book, Attributes: {'id': '1', 'genre': 'fiction'}\n",
      "        Tag: title, Attributes: {}\n",
      "        Text: 1984\n",
      "        Tag: author, Attributes: {}\n",
      "        Text: George Orwell\n",
      "        Tag: year, Attributes: {}\n",
      "        Text: 1949\n",
      "        Tag: price, Attributes: {}\n",
      "        Text: 19.84\n",
      "    Tag: book, Attributes: {'id': '2', 'genre': 'science'}\n",
      "        Tag: title, Attributes: {}\n",
      "        Text: A Brief History of Time\n",
      "        Tag: author, Attributes: {}\n",
      "        Text: Stephen Hawking\n",
      "        Tag: year, Attributes: {}\n",
      "        Text: 1988\n",
      "        Tag: price, Attributes: {}\n",
      "        Text: 15.99\n",
      "    Tag: book, Attributes: {'id': '3', 'genre': 'fantasy'}\n",
      "        Tag: title, Attributes: {}\n",
      "        Text: The Hobbit\n",
      "        Tag: author, Attributes: {}\n",
      "        Text: J.R.R. Tolkien\n",
      "        Tag: year, Attributes: {}\n",
      "        Text: 1937\n",
      "        Tag: price, Attributes: {}\n",
      "        Text: 12.75\n"
     ]
    }
   ],
   "source": []
  },
  {
   "cell_type": "code",
   "execution_count": 2,
   "metadata": {},
   "outputs": [],
   "source": [
    "# 使用字符加载et\n",
    "xml_string = '<root><element>Some data</element></root>'\n",
    "root = ET.fromstring(xml_string)"
   ]
  },
  {
   "cell_type": "code",
   "execution_count": 3,
   "metadata": {},
   "outputs": [
    {
     "data": {
      "text/plain": [
       "<Element 'root' at 0x7041e09ba160>"
      ]
     },
     "execution_count": 3,
     "metadata": {},
     "output_type": "execute_result"
    }
   ],
   "source": [
    "#  使用 find() 方法可以查找具有指定标签的第一个子元素\n",
    "title_element = root.find('title')"
   ]
  },
  {
   "cell_type": "code",
   "execution_count": null,
   "metadata": {},
   "outputs": [],
   "source": [
    "# 使用 findall() 方法可以查找具有指定标签的所有子元素\n",
    "book_elements = root.findall('book')"
   ]
  },
  {
   "cell_type": "code",
   "execution_count": null,
   "metadata": {},
   "outputs": [],
   "source": [
    "# 通过 attrib 属性可以访问元素的属性\n",
    "price = book_element.attrib['price']"
   ]
  },
  {
   "cell_type": "code",
   "execution_count": null,
   "metadata": {},
   "outputs": [],
   "source": [
    "# 通过 text 属性可以访问元素的文本内容\n",
    "title_text = title_element.text"
   ]
  }
 ],
 "metadata": {
  "kernelspec": {
   "display_name": "base",
   "language": "python",
   "name": "python3"
  },
  "language_info": {
   "codemirror_mode": {
    "name": "ipython",
    "version": 3
   },
   "file_extension": ".py",
   "mimetype": "text/x-python",
   "name": "python",
   "nbconvert_exporter": "python",
   "pygments_lexer": "ipython3",
   "version": "3.12.7"
  }
 },
 "nbformat": 4,
 "nbformat_minor": 2
}
